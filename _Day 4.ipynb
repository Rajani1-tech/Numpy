{
 "cells": [
  {
   "cell_type": "code",
   "execution_count": 2,
   "id": "484ddd62",
   "metadata": {},
   "outputs": [
    {
     "name": "stdout",
     "output_type": "stream",
     "text": [
      "['Red' 'Green' 'Orange']\n",
      "After deletion\n",
      "['Red']\n"
     ]
    }
   ],
   "source": [
    "# in order to delete multiple items from an array, we can use index\n",
    "# inside a delete().\n",
    "import numpy as np\n",
    "my_array = np.array([\"Red\",\"Green\", \"Orange\"])\n",
    "print(my_array)\n",
    "print(\"After deletion\")\n",
    "updated_array = np.delete(my_array, [1,2])\n",
    "print(updated_array)"
   ]
  },
  {
   "cell_type": "code",
   "execution_count": 4,
   "id": "0e65d511",
   "metadata": {},
   "outputs": [
    {
     "name": "stdout",
     "output_type": "stream",
     "text": [
      "[[ 5  6  7  9  8]\n",
      " [ 3  1 10  3  4]\n",
      " [ 5  5  4  8  5]\n",
      " [ 5  3 10 10  2]]\n",
      "After deletion\n",
      "[[ 5  6  7  9  8]\n",
      " [ 5  5  4  8  5]\n",
      " [ 5  3 10 10  2]]\n"
     ]
    }
   ],
   "source": [
    "integer_random = np.random.randint(1,11,size= (4,5))\n",
    "print(integer_random)\n",
    "print(\"After deletion\")\n",
    "updated_array = np.delete(integer_random, 1, axis=0)\n",
    "print(updated_array)"
   ]
  },
  {
   "cell_type": "code",
   "execution_count": 5,
   "id": "2416faa8",
   "metadata": {},
   "outputs": [
    {
     "name": "stdout",
     "output_type": "stream",
     "text": [
      "unsorted array\n",
      "[10  2 18  2  8 10  9 19  8  1]\n",
      "\n",
      " sorted array\n",
      "[ 1  2  2  8  8  9 10 10 18 19]\n"
     ]
    }
   ],
   "source": [
    "# sort() function is used to arrange items in asending order.\n",
    "import numpy as np\n",
    "print(\"unsorted array\")\n",
    "my_array = np.random.randint(1,20,10)\n",
    "print(my_array)\n",
    "print(\"\\n sorted array\")\n",
    "sorted_array = np.sort(my_array)\n",
    "print(sorted_array)"
   ]
  },
  {
   "cell_type": "code",
   "execution_count": 8,
   "id": "2ac43198",
   "metadata": {},
   "outputs": [
    {
     "name": "stdout",
     "output_type": "stream",
     "text": [
      "unsorted array\n",
      "['pinku' 'abhishek' 'maya' 'dipesh']\n",
      "\n",
      " sorted array\n",
      "['abhishek' 'dipesh' 'maya' 'pinku']\n"
     ]
    }
   ],
   "source": [
    "# sort() is also used to arrange text in ascending order.\n",
    "import numpy as np\n",
    "print(\"unsorted array\")\n",
    "my_array = np.array([\"pinku\",\"abhishek\",\"maya\",\"dipesh\"])\n",
    "print(my_array)\n",
    "print(\"\\n sorted array\")\n",
    "sorted_array = np.sort(my_array)\n",
    "print(sorted_array)"
   ]
  },
  {
   "cell_type": "code",
   "execution_count": 11,
   "id": "f6277354",
   "metadata": {},
   "outputs": [
    {
     "name": "stdout",
     "output_type": "stream",
     "text": [
      "unsorted array\n",
      "[[3 1 6 2 7]\n",
      " [1 6 6 4 5]\n",
      " [6 7 7 7 3]\n",
      " [4 3 5 8 5]]\n",
      "sorted array\n",
      "[[1 2 3 6 7]\n",
      " [1 4 5 6 6]\n",
      " [3 6 7 7 7]\n",
      " [3 4 5 5 8]]\n"
     ]
    }
   ],
   "source": [
    "# sort() can be also used in two-dimensional arrays.\n",
    "print(\"unsorted array\")\n",
    "my_array = np.random.randint(1,9, size = (4,5))\n",
    "print(my_array)\n",
    "print(\"sorted array\")\n",
    "sorted_array = np.sort(my_array)\n",
    "print(sorted_array)"
   ]
  },
  {
   "cell_type": "code",
   "execution_count": 13,
   "id": "7b5cb773",
   "metadata": {},
   "outputs": [
    {
     "name": "stdout",
     "output_type": "stream",
     "text": [
      "unsorted array\n",
      "[ 1  7 18 13  5 19 12  4 11  3]\n",
      "\n",
      " sorted array\n",
      "[19 18 13 12 11  7  5  4  3  1]\n"
     ]
    }
   ],
   "source": [
    "# flipud() function is used to reverse the sorted item.\n",
    "print(\"unsorted array\")\n",
    "my_array = np.random.randint(1,20,10)\n",
    "print(my_array)\n",
    "print(\"\\n sorted array\")\n",
    "sorted_array = np.sort(my_array)\n",
    "reverse_sorted = np.flipud(sorted_array)\n",
    "print(reverse_sorted)\n"
   ]
  },
  {
   "cell_type": "code",
   "execution_count": 14,
   "id": "e284c174",
   "metadata": {},
   "outputs": [
    {
     "name": "stdout",
     "output_type": "stream",
     "text": [
      "one-dimensional array\n",
      "[ 2  5 17  6  2 17  3  5 10  9]\n",
      "\n",
      " two-dimensional array\n",
      "[[ 2  5 17  6  2]\n",
      " [17  3  5 10  9]]\n"
     ]
    }
   ],
   "source": [
    "# reshape() function is used to pass new shape for an array.\n",
    "print(\"one-dimensional array\")\n",
    "one_d_array = np.random.randint(1,20,10)\n",
    "print(one_d_array)\n",
    "print(\"\\n two-dimensional array\")\n",
    "two_d_array = one_d_array.reshape(2,5)\n",
    "print(two_d_array)"
   ]
  },
  {
   "cell_type": "code",
   "execution_count": null,
   "id": "f6aa3ee4",
   "metadata": {},
   "outputs": [],
   "source": []
  }
 ],
 "metadata": {
  "kernelspec": {
   "display_name": "Python 3 (ipykernel)",
   "language": "python",
   "name": "python3"
  },
  "language_info": {
   "codemirror_mode": {
    "name": "ipython",
    "version": 3
   },
   "file_extension": ".py",
   "mimetype": "text/x-python",
   "name": "python",
   "nbconvert_exporter": "python",
   "pygments_lexer": "ipython3",
   "version": "3.9.12"
  }
 },
 "nbformat": 4,
 "nbformat_minor": 5
}
