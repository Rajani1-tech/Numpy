{
 "cells": [
  {
   "cell_type": "code",
   "execution_count": 6,
   "id": "daccbb98",
   "metadata": {},
   "outputs": [
    {
     "name": "stdout",
     "output_type": "stream",
     "text": [
      "[[14 18  7 27  6 16 17 14 14 21]\n",
      " [18 19 21 18 22 18 27  8 21 23]\n",
      " [ 5  4 27 19 14  9 10 17 12  6]\n",
      " [15  8 16 16 11 28 14 11 16 15]\n",
      " [28 28 18 15  5 21 28  4 18 27]]\n"
     ]
    }
   ],
   "source": [
    "# here we are going to work with two-dimensional array.\n",
    "import numpy as np\n",
    "integer_random = np.random.randint(4,30,size=(5,10))\n",
    "print(integer_random)"
   ]
  },
  {
   "cell_type": "code",
   "execution_count": 7,
   "id": "52764a8b",
   "metadata": {},
   "outputs": [
    {
     "name": "stdout",
     "output_type": "stream",
     "text": [
      "2\n",
      "(5, 10)\n"
     ]
    }
   ],
   "source": [
    "# here we can know the number of dimension and shape of given NumPY\n",
    "print(integer_random.ndim)\n",
    "print(integer_random.shape)"
   ]
  },
  {
   "cell_type": "code",
   "execution_count": 8,
   "id": "79fe5e30",
   "metadata": {},
   "outputs": [
    {
     "name": "stdout",
     "output_type": "stream",
     "text": [
      "14\n",
      "18\n",
      "7\n",
      "27\n",
      "6\n",
      "16\n",
      "17\n",
      "14\n",
      "14\n",
      "21\n",
      "18\n",
      "19\n",
      "21\n",
      "18\n",
      "22\n",
      "18\n",
      "27\n",
      "8\n",
      "21\n",
      "23\n",
      "5\n",
      "4\n",
      "27\n",
      "19\n",
      "14\n",
      "9\n",
      "10\n",
      "17\n",
      "12\n",
      "6\n",
      "15\n",
      "8\n",
      "16\n",
      "16\n",
      "11\n",
      "28\n",
      "14\n",
      "11\n",
      "16\n",
      "15\n",
      "28\n",
      "28\n",
      "18\n",
      "15\n",
      "5\n",
      "21\n",
      "28\n",
      "4\n",
      "18\n",
      "27\n"
     ]
    }
   ],
   "source": [
    "for rows in integer_random:\n",
    "    for column in rows:\n",
    "        print(column)"
   ]
  },
  {
   "cell_type": "code",
   "execution_count": 9,
   "id": "3c899ade",
   "metadata": {},
   "outputs": [
    {
     "name": "stdout",
     "output_type": "stream",
     "text": [
      "['Red' 'Green' 'Orange']\n"
     ]
    }
   ],
   "source": [
    "# append()-----> used to add item into Numpy array\n",
    "my_array = np.array([\"Red\", \"Green\", \"Orange\"])\n",
    "print(my_array)"
   ]
  },
  {
   "cell_type": "code",
   "execution_count": 10,
   "id": "4fad3ad1",
   "metadata": {},
   "outputs": [
    {
     "name": "stdout",
     "output_type": "stream",
     "text": [
      "['Red' 'Green' 'Orange' 'Yellow']\n"
     ]
    }
   ],
   "source": [
    "extended = np.append(my_array, \"Yellow\")\n",
    "print(extended)"
   ]
  },
  {
   "cell_type": "code",
   "execution_count": 13,
   "id": "27a8b69f",
   "metadata": {},
   "outputs": [
    {
     "name": "stdout",
     "output_type": "stream",
     "text": [
      "[[0. 0. 0.]\n",
      " [0. 0. 0.]\n",
      " [0. 0. 0.]\n",
      " [0. 0. 0.]]\n"
     ]
    }
   ],
   "source": [
    "# to add items in a two-dimensional NumPy array, you have to specify \n",
    "# whether you want to add new items as a row as a column. to do so, \n",
    "# we can take help of the axis attribute of the append method.\n",
    "zeros_array = np.zeros((4,3))\n",
    "print(zeros_array)"
   ]
  },
  {
   "cell_type": "code",
   "execution_count": 15,
   "id": "9f0c7a0c",
   "metadata": {},
   "outputs": [
    {
     "name": "stdout",
     "output_type": "stream",
     "text": [
      "[[0. 0. 0.]\n",
      " [0. 0. 0.]\n",
      " [0. 0. 0.]]\n",
      "Extended Array\n",
      "[[0. 0. 0.]\n",
      " [0. 0. 0.]\n",
      " [0. 0. 0.]\n",
      " [1. 2. 3.]]\n"
     ]
    }
   ],
   "source": [
    "zeros_array = np.zeros((3,3))\n",
    "print(zeros_array)\n",
    "print(\"Extended Array\")\n",
    "extended = np.append(zeros_array, [[1,2,3]], axis=0)\n",
    "print(extended)"
   ]
  },
  {
   "cell_type": "code",
   "execution_count": 17,
   "id": "40e626b2",
   "metadata": {},
   "outputs": [
    {
     "name": "stdout",
     "output_type": "stream",
     "text": [
      "['Red' 'Green' 'Orange']\n",
      "After deletion\n",
      "['Red' 'Orange']\n"
     ]
    }
   ],
   "source": [
    "# here we use delete() function to delete an unwanted item from array\n",
    "my_array = np.array([\"Red\", \"Green\",\"Orange\"])\n",
    "print(my_array)\n",
    "print(\"After deletion\")\n",
    "updated_array = np.delete(my_array,1 )\n",
    "print(updated_array)"
   ]
  },
  {
   "cell_type": "code",
   "execution_count": null,
   "id": "b47fd892",
   "metadata": {},
   "outputs": [],
   "source": []
  }
 ],
 "metadata": {
  "kernelspec": {
   "display_name": "Python 3 (ipykernel)",
   "language": "python",
   "name": "python3"
  },
  "language_info": {
   "codemirror_mode": {
    "name": "ipython",
    "version": 3
   },
   "file_extension": ".py",
   "mimetype": "text/x-python",
   "name": "python",
   "nbconvert_exporter": "python",
   "pygments_lexer": "ipython3",
   "version": "3.9.12"
  }
 },
 "nbformat": 4,
 "nbformat_minor": 5
}
