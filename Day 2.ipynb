{
 "cells": [
  {
   "cell_type": "code",
   "execution_count": 4,
   "id": "91398352",
   "metadata": {},
   "outputs": [
    {
     "name": "stdout",
     "output_type": "stream",
     "text": [
      "[[1. 1. 1. 1. 1. 1. 1.]\n",
      " [1. 1. 1. 1. 1. 1. 1.]\n",
      " [1. 1. 1. 1. 1. 1. 1.]\n",
      " [1. 1. 1. 1. 1. 1. 1.]\n",
      " [1. 1. 1. 1. 1. 1. 1.]\n",
      " [1. 1. 1. 1. 1. 1. 1.]\n",
      " [1. 1. 1. 1. 1. 1. 1.]\n",
      " [1. 1. 1. 1. 1. 1. 1.]\n",
      " [1. 1. 1. 1. 1. 1. 1.]\n",
      " [1. 1. 1. 1. 1. 1. 1.]]\n"
     ]
    }
   ],
   "source": [
    "#we can create two-dimensional array of all ones by passsing the numbers of\n",
    "# rows and columns as the first and second parameters of the ones() mrthod, as shown below:\n",
    "import numpy as np\n",
    "ones_array = np.ones((10,7))\n",
    "print(ones_array)"
   ]
  },
  {
   "cell_type": "code",
   "execution_count": 6,
   "id": "1865067c",
   "metadata": {},
   "outputs": [
    {
     "name": "stdout",
     "output_type": "stream",
     "text": [
      "[0. 0. 0. 0.]\n"
     ]
    }
   ],
   "source": [
    "# the zeros() method can be used to create a NUmpy array of all zeros. Her is an example\n",
    "zeros_array = np.zeros(4)\n",
    "print(zeros_array)"
   ]
  },
  {
   "cell_type": "code",
   "execution_count": 14,
   "id": "9ddc4b66",
   "metadata": {},
   "outputs": [
    {
     "name": "stdout",
     "output_type": "stream",
     "text": [
      "[[0. 0. 0. 0. 0. 0.]\n",
      " [0. 0. 0. 0. 0. 0.]\n",
      " [0. 0. 0. 0. 0. 0.]\n",
      " [0. 0. 0. 0. 0. 0.]\n",
      " [0. 0. 0. 0. 0. 0.]\n",
      " [0. 0. 0. 0. 0. 0.]\n",
      " [0. 0. 0. 0. 0. 0.]\n",
      " [0. 0. 0. 0. 0. 0.]\n",
      " [0. 0. 0. 0. 0. 0.]\n",
      " [0. 0. 0. 0. 0. 0.]\n",
      " [0. 0. 0. 0. 0. 0.]\n",
      " [0. 0. 0. 0. 0. 0.]]\n"
     ]
    }
   ],
   "source": [
    "# you can create a two-dimensional array of all zeros by passing the number of \n",
    " #rows and columns as the first and second parameters of the zeros() method as shown below:\n",
    "import numpy as np\n",
    "zeros_array = np.zeros((12,6))\n",
    "print(zeros_array)"
   ]
  },
  {
   "cell_type": "code",
   "execution_count": 16,
   "id": "ebcc7f67",
   "metadata": {},
   "outputs": [
    {
     "name": "stdout",
     "output_type": "stream",
     "text": [
      "[[1. 0. 0. 0. 0. 0. 0.]\n",
      " [0. 1. 0. 0. 0. 0. 0.]\n",
      " [0. 0. 1. 0. 0. 0. 0.]\n",
      " [0. 0. 0. 1. 0. 0. 0.]\n",
      " [0. 0. 0. 0. 1. 0. 0.]\n",
      " [0. 0. 0. 0. 0. 1. 0.]\n",
      " [0. 0. 0. 0. 0. 0. 1.]]\n"
     ]
    }
   ],
   "source": [
    "#The eyes() method is used to create an identify matrix in the form of\n",
    "#NumPy array. An identify matrix contains is along the diagonal,\n",
    "# while the rest of the elements are 0 in the array.\n",
    "import numpy as np\n",
    "eyes_array = np.eye(7)\n",
    "print(eyes_array)"
   ]
  },
  {
   "cell_type": "code",
   "execution_count": 1,
   "id": "67b5e4fe",
   "metadata": {},
   "outputs": [
    {
     "name": "stdout",
     "output_type": "stream",
     "text": [
      "[[0.45557267 0.62796978 0.55582103 0.7660724  0.91760306]\n",
      " [0.66561077 0.66436086 0.46654574 0.73206542 0.16750049]\n",
      " [0.74606462 0.82049882 0.89646579 0.7469846  0.49736852]\n",
      " [0.35619128 0.85561025 0.48613631 0.57648557 0.88907292]]\n"
     ]
    }
   ],
   "source": [
    "#The random.rand() function from the Numpy module can be used to create \n",
    "#a Numpy array with uniform distribution.\n",
    "import numpy as np\n",
    "uniform_random = np.random.rand(4,5)\n",
    "print(uniform_random)\n"
   ]
  },
  {
   "cell_type": "code",
   "execution_count": 2,
   "id": "edb72d35",
   "metadata": {},
   "outputs": [
    {
     "name": "stdout",
     "output_type": "stream",
     "text": [
      "[[0.45557267 0.62796978 0.55582103 0.7660724  0.91760306]\n",
      " [0.66561077 0.66436086 0.46654574 0.73206542 0.16750049]\n",
      " [0.74606462 0.82049882 0.89646579 0.7469846  0.49736852]\n",
      " [0.35619128 0.85561025 0.48613631 0.57648557 0.88907292]]\n"
     ]
    }
   ],
   "source": [
    "#the random.randn() function from NumPy array module can be used to\n",
    "# a NumPy with normal distribution.\n",
    "import numpy as np\n",
    "normal_random = np.random.randn(4,5)\n",
    "print(uniform_random)"
   ]
  },
  {
   "cell_type": "code",
   "execution_count": 3,
   "id": "e9574aa0",
   "metadata": {},
   "outputs": [
    {
     "name": "stdout",
     "output_type": "stream",
     "text": [
      "[43 22 73 34 63 24 77 60]\n"
     ]
    }
   ],
   "source": [
    "# the random.randint() function is used to create a NumPy array \n",
    "# with random integers between a certain range.\n",
    "# first parameter in it specifies the lower bound.\n",
    "# second  parameter specifies the upper bound.\n",
    "# last parameter specifies the number of random integers to generate bet^n range\n",
    "import numpy as np\n",
    "integer_random = np.random.randint(20,80,8)\n",
    "print(integer_random)\n"
   ]
  },
  {
   "cell_type": "code",
   "execution_count": 6,
   "id": "88ff7dab",
   "metadata": {},
   "outputs": [
    {
     "name": "stdout",
     "output_type": "stream",
     "text": [
      "[48 50 52 54 56 58 60]\n"
     ]
    }
   ],
   "source": [
    "import numpy as np\n",
    "my_array = np.array([48, 50, 52,54,56,58, 60])\n",
    "print(my_array)\n"
   ]
  },
  {
   "cell_type": "code",
   "execution_count": 7,
   "id": "f7b514f8",
   "metadata": {},
   "outputs": [
    {
     "name": "stdout",
     "output_type": "stream",
     "text": [
      "1\n",
      "(7,)\n"
     ]
    }
   ],
   "source": [
    "# we can use np.shape to know shape of an array.\n",
    "# on the other hand, np.ndim to know the dimension.\n",
    "print(my_array.ndim)\n",
    "print(my_array.shape)"
   ]
  },
  {
   "cell_type": "code",
   "execution_count": 8,
   "id": "f8cd277b",
   "metadata": {},
   "outputs": [
    {
     "name": "stdout",
     "output_type": "stream",
     "text": [
      "48\n",
      "50\n",
      "52\n",
      "54\n",
      "56\n",
      "58\n",
      "60\n"
     ]
    }
   ],
   "source": [
    "# we can also print ite,s in one-dimension using for loop\n",
    "for i in my_array:\n",
    "    print(i)"
   ]
  },
  {
   "cell_type": "code",
   "execution_count": null,
   "id": "a72ae73b",
   "metadata": {},
   "outputs": [],
   "source": []
  }
 ],
 "metadata": {
  "kernelspec": {
   "display_name": "Python 3 (ipykernel)",
   "language": "python",
   "name": "python3"
  },
  "language_info": {
   "codemirror_mode": {
    "name": "ipython",
    "version": 3
   },
   "file_extension": ".py",
   "mimetype": "text/x-python",
   "name": "python",
   "nbconvert_exporter": "python",
   "pygments_lexer": "ipython3",
   "version": "3.9.12"
  }
 },
 "nbformat": 4,
 "nbformat_minor": 5
}
