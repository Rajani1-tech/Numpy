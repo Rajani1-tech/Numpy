{
 "cells": [
  {
   "cell_type": "code",
   "execution_count": 1,
   "id": "45010b40",
   "metadata": {},
   "outputs": [
    {
     "name": "stdout",
     "output_type": "stream",
     "text": [
      "[ 1  2  3  4  5  6  7  8  9 10]\n"
     ]
    }
   ],
   "source": [
    "# NumPy arrays can be indexed and sliced. slicing an array means diving \n",
    "# an array into multiple parts. \n",
    "# Indexes in NumPy array starts from 0, which means first item of numpy at its 0 index\n",
    "import numpy as np\n",
    "s = np.arange(1,11)\n",
    "print(s)"
   ]
  },
  {
   "cell_type": "code",
   "execution_count": 3,
   "id": "0c727b34",
   "metadata": {},
   "outputs": [
    {
     "name": "stdout",
     "output_type": "stream",
     "text": [
      "[ 1  2  3  4  5  6  7  8  9 10]\n",
      "6\n"
     ]
    }
   ],
   "source": [
    "# the item at index one can be accessed as follows:\n",
    "s = np.arange(1,11)\n",
    "print(s)\n",
    "print(s[5])"
   ]
  },
  {
   "cell_type": "code",
   "execution_count": 3,
   "id": "cd00749a",
   "metadata": {},
   "outputs": [
    {
     "name": "stdout",
     "output_type": "stream",
     "text": [
      "[ 1  2  3  4  5  6  7  8  9 10]\n",
      "[1 2 3 4 5]\n",
      "[ 6  7  8  9 10]\n"
     ]
    }
   ],
   "source": [
    "# if you specify only the upper bound, all the items from the first index\n",
    "# to the upper bound are returned. similarly, if you specify only the lower bound, \n",
    "# all the items from the lower bound to the last item of the aray are returned.\n",
    "import numpy as np\n",
    "s = np.arange(1,11)\n",
    "print(s)\n",
    "print(s[:5])\n",
    "print(s[5:])"
   ]
  },
  {
   "cell_type": "code",
   "execution_count": 5,
   "id": "0cae8916",
   "metadata": {},
   "outputs": [
    {
     "name": "stdout",
     "output_type": "stream",
     "text": [
      "[[10 12 13]\n",
      " [45 32 16]]\n"
     ]
    }
   ],
   "source": [
    "# Array slicing can also be applied on a two-dimensional array. To do so,\n",
    "# we have to apply slicing on arrays and columns separately. A comma\n",
    "# separates the rows and columns slicing. In the following script, \n",
    "# the rows from the first and second indexes are returned, while all the columns are returned.\n",
    "import numpy as np\n",
    "row1 = [10,12,13]\n",
    "row2 = [45,32,16]\n",
    "row3 = [45,32,16]\n",
    "nums_2d = np.array([row1, row2, row3])\n",
    "print(nums_2d[:2,:])"
   ]
  },
  {
   "cell_type": "code",
   "execution_count": null,
   "id": "9142a630",
   "metadata": {},
   "outputs": [],
   "source": []
  }
 ],
 "metadata": {
  "kernelspec": {
   "display_name": "Python 3 (ipykernel)",
   "language": "python",
   "name": "python3"
  },
  "language_info": {
   "codemirror_mode": {
    "name": "ipython",
    "version": 3
   },
   "file_extension": ".py",
   "mimetype": "text/x-python",
   "name": "python",
   "nbconvert_exporter": "python",
   "pygments_lexer": "ipython3",
   "version": "3.9.12"
  }
 },
 "nbformat": 4,
 "nbformat_minor": 5
}
